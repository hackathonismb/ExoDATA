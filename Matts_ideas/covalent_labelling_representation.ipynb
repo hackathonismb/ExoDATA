{
 "cells": [
  {
   "cell_type": "markdown",
   "metadata": {},
   "source": [
    "# Representing Covalent Labelling Information\n",
    "\n",
    "One of the ideas we had was a method to represent residues from something like covalent labelling approaches for idenitfying surface residues. This gives a simple implementation for that.\n",
    "\n",
    "This uses the example of Creatine Kinase (which I had covalent labelling data for), PDB:2CRK."
   ]
  },
  {
   "cell_type": "code",
   "execution_count": 54,
   "metadata": {},
   "outputs": [],
   "source": [
    "class RepLabels:\n",
    "    \"\"\"\n",
    "    A class to output iCn3D commands for surface labelling information\n",
    "    \"\"\"\n",
    "    def __init__(self,pdb_code,pdb,labels):\n",
    "        self.pdb_code = pdb_code\n",
    "        self.labels = self.get_labels(labels)\n",
    "        self.atom_coords = self.get_ids(pdb)\n",
    "        \n",
    "    def get_labels(self,labels):\n",
    "        \"\"\"Parse covalent labels and return residue ids (currently ignoring chains)\"\"\"\n",
    "        mls = set()\n",
    "        \n",
    "        for line in (open(labels)).read().splitlines():\n",
    "            mls.add(int(line.split('|')[0]))\n",
    "            \n",
    "        return mls\n",
    "    \n",
    "    def get_ids(self,pdb):\n",
    "        \"\"\"As I couldn't figure out what command to use to select a single residue,\n",
    "        this method finds CA atom identifier for each residue.\"\"\"\n",
    "        ca_coords = {}\n",
    "\n",
    "        with open(pdb) as f:\n",
    "            g = f.read().splitlines()\n",
    "            for line in [i for i in g if i.startswith(\"ATOM\") and i[13:16].strip()==\"CA\"]:\n",
    "                aa = int(line[22:28].strip())\n",
    "                atom = int(line[4:13])\n",
    "                ca_coords[aa] = atom\n",
    "            f.close()\n",
    "            \n",
    "        return ca_coords\n",
    "    \n",
    "    def output_statefile(self,state_pref=\"./\",state_suff=\"_state.txt\",color=\"0FF\"):\n",
    "        atom_sel = []\n",
    "\n",
    "        atom_sel.append(\"\"\"load mmdb %s\"\"\" % self.pdb_code)\n",
    "\n",
    "        for ml in mls:\n",
    "            atom_sel.append(\"\"\"pickatom %d\"\"\" % self.atom_coords[ml])\n",
    "            atom_sel.append(\"\"\"style sidec ball and stick\"\"\")\n",
    "            atom_sel.append(\"\"\"color %s\"\"\" % color)\n",
    "        \n",
    "        with open(\"%s%s%s\" % (state_pref,self.pdb_code,state_suff),\"w+\") as f:\n",
    "            for line in atom_sel:\n",
    "                f.write(f\"{line}\\n\")\n",
    "            f.close()"
   ]
  },
  {
   "cell_type": "code",
   "execution_count": 55,
   "metadata": {},
   "outputs": [],
   "source": [
    "rep_lab = RepLabels(\"2crk\",\"./covalent_labels/2crk.pdb\",\"./covalent_labels/ml.txt\")\n",
    "rep_lab.output_statefile(state_pref=\"./covalent_labels/\")"
   ]
  },
  {
   "cell_type": "markdown",
   "metadata": {},
   "source": [
    "When the resulting statefile is loaded into icn3d it looks like this:"
   ]
  },
  {
   "cell_type": "markdown",
   "metadata": {},
   "source": [
    "![Sreeenshot](covalent_labels/screenshot.png)"
   ]
  },
  {
   "cell_type": "code",
   "execution_count": null,
   "metadata": {},
   "outputs": [],
   "source": []
  }
 ],
 "metadata": {
  "kernelspec": {
   "display_name": "Python 3",
   "language": "python",
   "name": "python3"
  },
  "language_info": {
   "codemirror_mode": {
    "name": "ipython",
    "version": 3
   },
   "file_extension": ".py",
   "mimetype": "text/x-python",
   "name": "python",
   "nbconvert_exporter": "python",
   "pygments_lexer": "ipython3",
   "version": "3.6.10"
  }
 },
 "nbformat": 4,
 "nbformat_minor": 4
}
